{
  "nbformat": 4,
  "nbformat_minor": 0,
  "metadata": {
    "colab": {
      "provenance": []
    },
    "kernelspec": {
      "name": "python3",
      "display_name": "Python 3"
    },
    "language_info": {
      "name": "python"
    }
  },
  "cells": [
    {
      "cell_type": "code",
      "execution_count": null,
      "metadata": {
        "id": "p9iVC72hF17w"
      },
      "outputs": [],
      "source": [
        "#In order to install FeniCs on your notebook, run this block (Must be done in Colab). All rights reserved to FEM-ON-COLAB\n",
        "\n",
        "try:\n",
        "    import dolfin\n",
        "except ImportError:\n",
        "    !wget \"https://fem-on-colab.github.io/releases/fenics-install-real.sh\" -O \"/tmp/fenics-install.sh\" && bash \"/tmp/fenics-install.sh\"\n",
        "    import dolfin"
      ]
    },
    {
      "cell_type": "code",
      "source": [
        "#This is an example code that solves the Poisson Equation. Run to check if Fenics Was correctly installed\n",
        "\n",
        "\"\"\"\n",
        "FEniCS tutorial demo program: Poisson equation with Dirichlet conditions.\n",
        "Test problem is chosen to give an exact solution at all nodes of the mesh.\n",
        "\n",
        "  -Laplace(u) = f    in the unit square\n",
        "            u = u_D  on the boundary\n",
        "\n",
        "  u_D = 1 + x^2 + 2y^2\n",
        "    f = -6\n",
        "\"\"\"\n",
        "\n",
        "from __future__ import print_function\n",
        "from fenics import *\n",
        "import matplotlib.pyplot as plt\n",
        "\n",
        "# Create mesh and define function space\n",
        "mesh = UnitSquareMesh(8, 8)\n",
        "V = FunctionSpace(mesh, 'P', 1)\n",
        "\n",
        "# Define boundary condition\n",
        "u_D = Expression('1 + x[0]*x[0] + 2*x[1]*x[1]', degree=2)\n",
        "\n",
        "def boundary(x, on_boundary):\n",
        "    return on_boundary\n",
        "\n",
        "bc = DirichletBC(V, u_D, boundary)\n",
        "\n",
        "# Define variational problem\n",
        "u = TrialFunction(V)\n",
        "v = TestFunction(V)\n",
        "f = Constant(-6.0)\n",
        "a = dot(grad(u), grad(v))*dx\n",
        "L = f*v*dx\n",
        "\n",
        "# Compute solution\n",
        "u = Function(V)\n",
        "solve(a == L, u, bc)\n",
        "\n",
        "# Plot solution and mesh\n",
        "plot(u)\n",
        "plot(mesh)\n",
        "\n",
        "# Compute error in L2 norm\n",
        "error_L2 = errornorm(u_D, u, 'L2')\n",
        "\n",
        "# Compute maximum error at vertices\n",
        "vertex_values_u_D = u_D.compute_vertex_values(mesh)\n",
        "vertex_values_u = u.compute_vertex_values(mesh)\n",
        "import numpy as np\n",
        "error_max = np.max(np.abs(vertex_values_u_D - vertex_values_u))\n",
        "\n",
        "# Print errors\n",
        "print('error_L2  =', error_L2)\n",
        "print('error_max =', error_max)\n",
        "\n",
        "# Hold plot\n",
        "plt.show()"
      ],
      "metadata": {
        "id": "ahvtql3WG8tV"
      },
      "execution_count": null,
      "outputs": []
    }
  ]
}