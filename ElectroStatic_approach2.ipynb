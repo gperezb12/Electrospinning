{
  "nbformat": 4,
  "nbformat_minor": 0,
  "metadata": {
    "colab": {
      "provenance": []
    },
    "kernelspec": {
      "name": "python3",
      "display_name": "Python 3"
    },
    "language_info": {
      "name": "python"
    }
  },
  "cells": [
    {
      "cell_type": "markdown",
      "source": [
        "# ElectroStatic Solver 2\n",
        "\n",
        "This notebook shows the obtention of electrostatic forces on a boundary due to the application of a high voltage.\n",
        "\n",
        "It finds the electrostatic forces inside FeniCs, solving an auxiliary variational problem. It returns the forces and points where the forces must be applied\n"
      ],
      "metadata": {
        "id": "CkalBo3ghXsi"
      }
    },
    {
      "cell_type": "code",
      "execution_count": null,
      "metadata": {
        "id": "c11UKWxfnSYv"
      },
      "outputs": [],
      "source": [
        "#Setup FeniCs, must run in Colab\n",
        "\n",
        "!wget \"https://fem-on-colab.github.io/releases/fenics-install.sh\" -O \"/tmp/fenics-install.sh\" && bash \"/tmp/fenics-install.sh\"\n",
        "import dolfin\n",
        "from google.colab import files\n",
        "\n",
        "import platform, sys\n",
        "python_version=platform.python_version()\n",
        "from distutils.version import LooseVersion, StrictVersion\n",
        "\n",
        "if ( LooseVersion(python_version) < LooseVersion(\"3.0.0\")):\n",
        "    print(\"Python3 is needed!\");\n",
        "    print(\"How to fix: Runtime/Change_runtime_type/Python 3\");\n",
        "    sys.exit()\n",
        "try:\n",
        "    from dolfin import *; from mshr import *\n",
        "except ImportError as e:\n",
        "    !apt-get install -y -qq software-properties-common python-software-properties module-init-tools\n",
        "    !add-apt-repository -y ppa:fenics-packages/fenics\n",
        "    !apt-get update -qq\n",
        "    !apt install -y --no-install-recommends fenics\n",
        "    from dolfin import *; from mshr import *\n",
        "\n",
        "import matplotlib.pyplot as plt;\n",
        "from IPython.display import clear_output, display; import time; import dolfin.common.plotting as fenicsplot\n",
        "import time\n",
        "\n",
        "import os, sys, shutil\n",
        "\n",
        "dolfin_version = dolfin.__version__\n",
        "print ('dolfin version:', dolfin_version)\n",
        "\n",
        "!rm -rf * # clean up all files\n",
        "# Useful commands\n",
        "# Remove an empty folder      : os.rmdir(\"my_results\")\n",
        "# Remove a folder with files  : shutil.rmtree(\"results\")\n",
        "# Make a folder               : os.mkdir(\"my_results\")\n",
        "# Runtime/Change_runtime_type/Python3"
      ]
    },
    {
      "cell_type": "code",
      "source": [
        "pip install meshio"
      ],
      "metadata": {
        "colab": {
          "base_uri": "https://localhost:8080/"
        },
        "id": "Pc2Kn-b7iqMu",
        "outputId": "fa7673c1-fc84-4bf2-8800-1ddc982ce4c1"
      },
      "execution_count": 1,
      "outputs": [
        {
          "output_type": "stream",
          "name": "stdout",
          "text": [
            "Collecting meshio\n",
            "  Downloading meshio-5.3.4-py3-none-any.whl (167 kB)\n",
            "\u001b[2K     \u001b[90m━━━━━━━━━━━━━━━━━━━━━━━━━━━━━━━━━━━━━━━━\u001b[0m \u001b[32m167.7/167.7 kB\u001b[0m \u001b[31m2.3 MB/s\u001b[0m eta \u001b[36m0:00:00\u001b[0m\n",
            "\u001b[?25hRequirement already satisfied: numpy in /usr/local/lib/python3.10/dist-packages (from meshio) (1.23.5)\n",
            "Requirement already satisfied: rich in /usr/local/lib/python3.10/dist-packages (from meshio) (13.7.0)\n",
            "Requirement already satisfied: markdown-it-py>=2.2.0 in /usr/local/lib/python3.10/dist-packages (from rich->meshio) (3.0.0)\n",
            "Requirement already satisfied: pygments<3.0.0,>=2.13.0 in /usr/local/lib/python3.10/dist-packages (from rich->meshio) (2.16.1)\n",
            "Requirement already satisfied: mdurl~=0.1 in /usr/local/lib/python3.10/dist-packages (from markdown-it-py>=2.2.0->rich->meshio) (0.1.2)\n",
            "Installing collected packages: meshio\n",
            "Successfully installed meshio-5.3.4\n"
          ]
        }
      ]
    },
    {
      "cell_type": "code",
      "source": [
        "import meshio\n",
        "#Use this lines if you wish import your mesh as a msh (GMSH) file\n",
        "msh2 = meshio.read(\"NSlev.msh\")\n",
        "meshio.write(\"NSlev.xml\",msh2)\n",
        "mesh = Mesh(\"NSlev.xml\")"
      ],
      "metadata": {
        "id": "LZRol2hEinM8"
      },
      "execution_count": null,
      "outputs": []
    },
    {
      "cell_type": "code",
      "source": [
        " #Solves Poisson Equation in order to get electric potential at every point\n",
        "from dolfin import *\n",
        "import meshio\n",
        "#Define parameters for simplicity\n",
        "#This block of code provides a general mesh case, it can be modified in accordance to the problem needed\n",
        "\n",
        "originx = 0\n",
        "originy = 0\n",
        "origin = Point(originx,originy)\n",
        "\n",
        "bigRectx = 10\n",
        "bigRecty = 5\n",
        "bigRect = Point(bigRectx, bigRecty)\n",
        "\n",
        "rect2_1x = 4\n",
        "rect2_1y = 2\n",
        "rect2_1 = Point(rect2_1x,rect2_1y)\n",
        "\n",
        "rect2_2x = 6\n",
        "rect2_2y = 5\n",
        "rect2_2 = Point(rect2_2x,rect2_2y)\n",
        "\n",
        "\n",
        "rect1 = Rectangle(origin, bigRect)\n",
        "rect2 = Rectangle(rect2_1, rect2_2)\n",
        "circle = Circle(Point(5 , 2), 1 )\n",
        "\n",
        "domain = rect1 - rect2 - circle\n",
        "mesh = generate_mesh(domain, 100)\n",
        "\n",
        "\n",
        "\"\"\"msh = meshio.read(\"NSlev.xml\")\n",
        "mesh = Mesh(\"NSlev.xml\")\"\"\"\n",
        "\n",
        "V = FunctionSpace(mesh, 'CG', 1)\n",
        "\n",
        "v_0 = Constant(0) #Defines ground\n",
        "v_2 = Constant(13500) #Voltage that is applied to the needle\n",
        "\n",
        "def bottom_side(x, on_boundary): #Defines the boundary for the collector\n",
        "    if (near(x[1], 0) )  and on_boundary:\n",
        "        return True\n",
        "\n",
        "def voltage(x,on_boundary): #Defines the boudary on which there is a voltage is applied. Aka, the needle\n",
        "  Bool = False\n",
        "  if on_boundary:\n",
        "    if ((near(x[1],0) or near(x[0],0) or near(x[0],10) or near(x[1],5))): #Change these values for the boundaries of the mesh used.\n",
        "      return Bool\n",
        "    else:\n",
        "      return True\n",
        "\n",
        "bot_bc = DirichletBC(V, v_0, bottom_side)\n",
        "drop_bc = DirichletBC(V, v_2, voltage)\n",
        "bcs = [bot_bc, drop_bc] #Creates Dirichlet conditions for the electrostatic potential\n",
        "\n",
        "u = TrialFunction(V)\n",
        "v = TestFunction(V)\n",
        "f = Constant(0)\n",
        "a = dot(grad(u), grad(v))*dx #Define variational form for Poissons equation\n",
        "L = f*v*dx #Define variational form\n",
        "\n",
        "u = Function(V)\n",
        "solve(a == L, u, bcs) #Solve linear system for the potential (u)\n",
        "\n",
        "a  = plot(u , title = \"Trial simulation\") #Plot solution (if needed)\n",
        "cbar = plt.colorbar(a)\n",
        "cbar.ax.set_ylabel('Voltage applied [V]')"
      ],
      "metadata": {
        "id": "sS3mhZZYisNy"
      },
      "execution_count": null,
      "outputs": []
    },
    {
      "cell_type": "code",
      "source": [
        "import numpy as np\n",
        "\n",
        "#Define E in terms of the gradient of the electric potential\n",
        "\n",
        "E = project(-grad(u), VectorFunctionSpace(mesh, 'CG', 1)) #Projection, in order to get to obtain E (vectorfield)\n",
        "EX, EY = E.split(deepcopy=True)  # extract components\n",
        "\n",
        "b = plot(E, title=\"Electric Field around needle\") #Plot E\n",
        "cbar = plt.colorbar(b)\n",
        "cbar.ax.set_ylabel('Electric Field [V/m]')\n",
        "\n",
        "# Add grid and axis number lines\n",
        "plt.grid(True)\n",
        "plt.xlabel('X-axis')\n",
        "plt.ylabel('Y-axis')\n",
        "\n",
        "\n",
        "file = File(\"Eiter1.pvd\") #Save the value of E for visualization in Paraview\n",
        "file << E\n"
      ],
      "metadata": {
        "id": "oAgfpgWMjaPR"
      },
      "execution_count": null,
      "outputs": []
    },
    {
      "cell_type": "code",
      "source": [
        "# Define Maxwell Stress tensor (M) according to Riva's definition, all within FeniCs environment\n",
        "epsilon = 8.85E-12\n",
        "\n",
        "M = -0.5 * epsilon * dot(E, E) * Identity(2) +  epsilon*outer(E, E)\n",
        "\n"
      ],
      "metadata": {
        "id": "mSreLhDRj0oN"
      },
      "execution_count": 7,
      "outputs": []
    },
    {
      "cell_type": "code",
      "source": [
        "#This variational problem solves for the normal vectors on the boundary of the needle\n",
        "n = FacetNormal(mesh)\n",
        "V = VectorFunctionSpace(mesh, \"CG\", 1)\n",
        "u = TrialFunction(V)\n",
        "v = TestFunction(V)\n",
        "a = inner(u,v)*ds\n",
        "l = inner(n, v)*ds\n",
        "A = assemble(a, keep_diagonal=True)\n",
        "L = assemble(l)\n",
        "\n",
        "A.ident_zeros()\n",
        "nh = Function(V)\n",
        "\n",
        "def n_is_cero(x,on_boundary): #Define the places where the normal vector should be cero\n",
        "  if on_boundary:\n",
        "    if ((near(x[1],0) or near(x[0],0) or near(x[0],10) or near(x[1],5))): #Change according to the boundaries for your problem\n",
        "      return True\n",
        "    else:\n",
        "      return False\n",
        "\n",
        "\n",
        "drop_bc = DirichletBC(V, Constant((0,0)), n_is_cero)\n",
        "\n",
        "bcs = [drop_bc]\n",
        "\n",
        "[bc.apply(A) for bc in bcs] #Apply boundary conditions to A\n",
        "[bc.apply(L) for bc in bcs]\n",
        "\n",
        "\n",
        "solve(A, nh.vector(),L) #Find nh (normal vectors). Note that they may need to be multiplied by -1, in order to\n",
        "Faux = dot(M,-nh) #Value for the electrostatic force over the whole domain (We are only interested on the boundary)\n",
        "F = project(F, VectorFunctionSpace(mesh, 'CG', 1))"
      ],
      "metadata": {
        "id": "oniTXtu9kD7F"
      },
      "execution_count": 19,
      "outputs": []
    },
    {
      "cell_type": "code",
      "source": [
        "#Block of code used to extract the values for the nodes at the boundary\n",
        "class boundary(SubDomain):\n",
        "    def inside(self, x, on_boundary): #Define a subdomain of the mesh, only with the nodes where the following conditions are met\n",
        "      if on_boundary:\n",
        "        if near(x[0], 0) or near(x[0], 10) or near(x[1],0) or near(x[1],5) or near(x[0], 0.4) or near(x[0], 0.6): #Change according to the boundaries for your problem\n",
        "          return False\n",
        "        else:\n",
        "          return True\n",
        "      else:\n",
        "        return False\n",
        "\n",
        "\n",
        "V = FunctionSpace(mesh, \"CG\", 1)\n",
        "mf = MeshFunction(\"size_t\", mesh, mesh.topology().dim()-1, 0)\n",
        "boundary().mark(mf, 1) #Mark the elements of the desired boundary\n",
        "v2d = vertex_to_dof_map(V)\n",
        "dofs = []\n",
        "\n",
        "for facet in facets(mesh): #Obtain a list of the marked nodes\n",
        "    if mf[facet.index()] == 1:\n",
        "        vertices = facet.entities(0)\n",
        "        for vertex in vertices:\n",
        "            dofs.append(v2d[vertex])\n",
        "\n",
        "unique_dofs = np.array(list(set(dofs)), dtype=np.int32)\n",
        "boundary_coords = V.tabulate_dof_coordinates()[unique_dofs]\n",
        "\n",
        "forces = [0]*len(boundary_coords)\n",
        "\n",
        "for i in range(0,len(boundary_coords)):\n",
        "  arr = boundary_coords[i]\n",
        "  forces[i] = F([arr[0] , arr[1]])"
      ],
      "metadata": {
        "id": "U7B9pFdomr-C"
      },
      "execution_count": 38,
      "outputs": []
    },
    {
      "cell_type": "code",
      "source": [
        "import matplotlib.pyplot as plt\n",
        "import numpy as np\n",
        "from matplotlib.colors import Normalize\n",
        "from matplotlib import cm\n",
        "\n",
        "#Function used to visualize the\n",
        "def plot_points_and_vectors(points, vectors):\n",
        "    fig, ax = plt.subplots()\n",
        "\n",
        "    # Normalize vectors to make them unitary\n",
        "    norms = np.linalg.norm(vectors, axis=1)\n",
        "    unit_vectors = vectors / norms[:, np.newaxis]\n",
        "\n",
        "    # Use a color map to represent vector magnitudes\n",
        "    magnitudes = np.linalg.norm(vectors, axis=1)\n",
        "    norm = Normalize(vmin=min(magnitudes), vmax=max(magnitudes))\n",
        "    colors = cm.viridis(norm(magnitudes))\n",
        "\n",
        "    # Define your custom scaling factor\n",
        "    custom_scaling_factor = 10 #Length of the vectors\n",
        "\n",
        "    # Plot points\n",
        "    ax.scatter(*zip(*points), color='red', s=5)\n",
        "\n",
        "    for i, point in enumerate(points):\n",
        "      vector = custom_scaling_factor * unit_vectors[i]  # Adjust the length\n",
        "      color = cm.viridis(norm(magnitudes[i]))\n",
        "\n",
        "      scale = 0.001\n",
        "      line_width = 0.005  # Set your desired line width here\n",
        "\n",
        "      ax.quiver(point[0], point[1], vector[0], vector[1], angles='xy', scale_units='xy', scale=1,\n",
        "                color=color, width=line_width, edgecolor=color)\n",
        "\n",
        "    ax.set_aspect('equal')\n",
        "    plt.xlabel('X-axis')\n",
        "    plt.ylabel('Y-axis')\n",
        "    plt.title('Electrostatic Force on the Boundary')\n",
        "\n",
        "    # Resize the grid\n",
        "    plt.grid(True, linewidth=0.05, alpha=0.005)\n",
        "\n",
        "    # Add colorbar\n",
        "    sm = plt.cm.ScalarMappable(cmap=cm.viridis, norm=norm)\n",
        "    sm.set_array([])\n",
        "    cbar = plt.colorbar(sm, orientation='vertical', label='Force Magnitude [N]')\n",
        "\n",
        "    plt.show()\n",
        "\n",
        "\n",
        "plot_points_and_vectors(boundary_coords, forces)\n"
      ],
      "metadata": {
        "colab": {
          "base_uri": "https://localhost:8080/",
          "height": 527
        },
        "id": "w7iE6Jlwm1B2",
        "outputId": "7a16d2d7-b676-401d-b8ed-45cb551a9637"
      },
      "execution_count": 39,
      "outputs": [
        {
          "output_type": "stream",
          "name": "stderr",
          "text": [
            "<ipython-input-39-54e6301fb202>:46: MatplotlibDeprecationWarning: Unable to determine Axes to steal space for Colorbar. Using gca(), but will raise in the future. Either provide the *cax* argument to use as the Axes for the Colorbar, provide the *ax* argument to steal space from it, or add *mappable* to an Axes.\n",
            "  cbar = plt.colorbar(sm, orientation='vertical', label='Force Magnitude [N]')\n"
          ]
        },
        {
          "output_type": "display_data",
          "data": {
            "text/plain": [
              "<Figure size 640x480 with 2 Axes>"
            ],
            "image/png": "[encoded data removed]"
          },
          "metadata": {}
        }
      ]
    },
    {
      "cell_type": "code",
      "source": [],
      "metadata": {
        "id": "vSs1CiBNpGkv"
      },
      "execution_count": null,
      "outputs": []
    }
  ]
}