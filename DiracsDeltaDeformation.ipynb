{
  "cells": [
    {
      "cell_type": "markdown",
      "source": [
        "# Nodal deformation due to Dirac's Delta\n",
        "\n",
        "This program takes a mesh, a set of points and a set of forces assigned to each force. The idea behind this program is to apply a resized Dirac's Delta to every node, so that each force is only applied to one node.\n",
        "\n",
        "As opposed to the subdomain approach, this approach works for both structured and unstructured meshes, however, it takes a very, very long time to run, which makes it quite impractical."
      ],
      "metadata": {
        "id": "WWIsHBSTjhez"
      }
    },
    {
      "cell_type": "code",
      "execution_count": null,
      "metadata": {
        "id": "CuC5Bog8rcPI"
      },
      "outputs": [],
      "source": [
        "#Setup FeniCs\n",
        "\n",
        "try:\n",
        "    import dolfin\n",
        "except ImportError:\n",
        "    !wget \"https://fem-on-colab.github.io/releases/fenics-install-real.sh\" -O \"/tmp/fenics-install.sh\" && bash \"/tmp/fenics-install.sh\"\n",
        "    import dolfin\n"
      ]
    },
    {
      "cell_type": "code",
      "execution_count": null,
      "metadata": {
        "id": "X4acjhq_AiAm"
      },
      "outputs": [],
      "source": [
        "pip install meshio"
      ]
    },
    {
      "cell_type": "code",
      "execution_count": 3,
      "metadata": {
        "id": "9gZaeLmVB5kZ"
      },
      "outputs": [],
      "source": [
        "import meshio"
      ]
    },
    {
      "cell_type": "code",
      "source": [
        "from dolfin import *"
      ],
      "metadata": {
        "id": "IfA_au8wUUnc"
      },
      "execution_count": 5,
      "outputs": []
    },
    {
      "cell_type": "code",
      "execution_count": null,
      "metadata": {
        "colab": {
          "base_uri": "https://localhost:8080/",
          "height": 34
        },
        "id": "DPVzI6E3Aqd-",
        "outputId": "c156d436-c2ba-49ac-de7f-5d4ec103e19c"
      },
      "outputs": [
        {
          "data": {
            "text/html": [
              "<pre style=\"white-space:pre;overflow-x:auto;line-height:normal;font-family:Menlo,'DejaVu Sans Mono',consolas,'Courier New',monospace\"><span style=\"color: #808000; text-decoration-color: #808000; font-weight: bold\">Warning:</span><span style=\"color: #808000; text-decoration-color: #808000\"> DOLFIN XML is a legacy format. Consider using XDMF instead.</span>\n",
              "</pre>\n"
            ],
            "text/plain": [
              "\u001b[1;33mWarning:\u001b[0m\u001b[33m DOLFIN XML is a legacy format. Consider using XDMF instead.\u001b[0m\n"
            ]
          },
          "metadata": {},
          "output_type": "display_data"
        }
      ],
      "source": [
        "from dolfin import*\n",
        "import numpy as np\n",
        "\n",
        "msh = meshio.read(\"mesh (13).xml\")\n",
        "meshio.write(\"mesh.xml\",msh)\n",
        "mesh = Mesh(\"mesh.xml\")\n",
        "\n"
      ]
    },
    {
      "cell_type": "code",
      "execution_count": 16,
      "metadata": {
        "id": "mMXQ66KYlJw5",
        "colab": {
          "base_uri": "https://localhost:8080/",
          "height": 452
        },
        "outputId": "13ac8b0a-ab9d-4b99-f97f-211655d3b42a"
      },
      "outputs": [
        {
          "output_type": "display_data",
          "data": {
            "text/plain": [
              "<Figure size 640x480 with 1 Axes>"
            ],
            "image/png": "[encoded data removed]"
          },
          "metadata": {}
        }
      ],
      "source": [
        "import numpy as np\n",
        "from dolfin import *\n",
        "\n",
        "\"\"\"\n",
        "msh = meshio.read(\"mesh (13).xml\")\n",
        "meshio.write(\"mesh.xml\",msh)\n",
        "mesh = Mesh(\"mesh.xml\")\n",
        "\"\"\"\n",
        "mesh = UnitSquareMesh(10,10) #Define example mesh\n",
        "\n",
        "\n",
        "V = VectorFunctionSpace(mesh, 'Lagrange', degree=1)\n",
        "\n",
        "#Class that defines a Dirac's Delta.\n",
        "#Note that two Deltas are defines, one for the x component of the force and one for the y component\n",
        "class Delta(UserExpression):\n",
        "    def __init__(self, eps, x0, scale_x, scale_y, **kwargs):\n",
        "        self.eps = eps\n",
        "        self.x0 = x0\n",
        "        self.scale_x = scale_x\n",
        "        self.scale_y = scale_y\n",
        "        UserExpression.__init__(self, **kwargs)\n",
        "\n",
        "    def eval(self, values, x):\n",
        "        eps = self.eps\n",
        "        dist_squared = np.linalg.norm(x - self.x0)**2 + eps**2\n",
        "        values[0] = self.scale_x * eps * abs((x[0] - self.x0[0])) / (pi * dist_squared) #Continous definition for Dirac's Delta\n",
        "        values[1] = self.scale_y * eps * abs((x[1] - self.x0[1])) / (pi * dist_squared)\n",
        "\n",
        "    def value_shape(self):\n",
        "        return (2, )\n",
        "\n",
        "\n",
        "points = mesh.coordinates()\n",
        "forces = [[0, -20/len(points)]]*len(points) #Example force, change for needed\n",
        "\n",
        "# Create a list of Delta expressions for each point and force. Scale value tunes the Delta into the value wished for the force\n",
        "deltas = [Delta(eps=1E-4, x0=point, scale_x=force[0]*19200, scale_y=force[1]*19200, degree=5)\n",
        "          for point, force in zip(points, forces)]\n",
        "\n",
        "#Solves a classical linear elasticity problem\n",
        "def eps(v):\n",
        "    return sym(grad(v))\n",
        "\n",
        "E = Constant(100)\n",
        "nu = Constant(0.3)\n",
        "mu = E/2/(1+nu)\n",
        "lmbda = E*nu/(1+nu)/(1-2*nu)\n",
        "\n",
        "def sigma(v):\n",
        "    return lmbda*tr(eps(v))*Identity(2) + 2.0*mu*eps(v)\n",
        "\n",
        "du = TrialFunction(V)\n",
        "u_ = TestFunction(V)\n",
        "\n",
        "a = inner(sigma(du), eps(u_))*dx\n",
        "\n",
        "# Summation of forces\n",
        "l = sum(inner(delta, u_)*dx for delta in deltas)\n",
        "\n",
        "def left(x, on_boundary):\n",
        "    return on_boundary and (near(x[1], 1) or near(x[0],0) or near(x[0],1)   )\n",
        "\n",
        "bc = DirichletBC(V, Constant((0., 0.)), left)\n",
        "\n",
        "u = Function(V, name=\"Displacement\")\n",
        "solve(a == l, u, bc)\n",
        "\n",
        "a = plot(u, mode=\"displacement\", title = \"Deformation of solid under a load (Distributed nodally)\")\n"
      ]
    }
  ],
  "metadata": {
    "colab": {
      "provenance": []
    },
    "kernelspec": {
      "display_name": "Python 3",
      "name": "python3"
    },
    "language_info": {
      "name": "python"
    }
  },
  "nbformat": 4,
  "nbformat_minor": 0
}