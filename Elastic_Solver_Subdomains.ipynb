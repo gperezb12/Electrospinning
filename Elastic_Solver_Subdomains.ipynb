{
  "cells": [
    {
      "cell_type": "markdown",
      "source": [
        "# Elastic Solver\n",
        "\n",
        "This code takes as an input a mesh, a set of points and the forces associated with said points, and based on a linear elasticity problem, it deforms the geometry basing itself on properties such as Young's modulus and Poisson's coefficient.\n",
        "\n",
        "The approach made is using squared subdomains around each node, so that a different force is applied on every subdomain. This code, more efficient than the other approaches taken (Dirac Delta) only works when the mesh is structured, so that properties as symmetry are mantained."
      ],
      "metadata": {
        "id": "x528rYRmj_OY"
      }
    },
    {
      "cell_type": "code",
      "execution_count": null,
      "metadata": {
        "id": "mTXT7Jaj_Lr0"
      },
      "outputs": [],
      "source": [
        "#Setup FeniCs, run on Colab\n",
        "\n",
        "try:\n",
        "    import dolfin\n",
        "except ImportError:\n",
        "    !wget \"https://fem-on-colab.github.io/releases/fenics-install-real.sh\" -O \"/tmp/fenics-install.sh\" && bash \"/tmp/fenics-install.sh\"\n",
        "    import dolfin"
      ]
    },
    {
      "cell_type": "code",
      "execution_count": 3,
      "metadata": {
        "id": "hKjEo6fEVb1q",
        "colab": {
          "base_uri": "https://localhost:8080/"
        },
        "outputId": "080276ef-997d-4619-9a10-950d06b98aa9"
      },
      "outputs": [
        {
          "output_type": "stream",
          "name": "stdout",
          "text": [
            "Collecting meshio\n",
            "  Downloading meshio-5.3.4-py3-none-any.whl (167 kB)\n",
            "\u001b[?25l     \u001b[90m━━━━━━━━━━━━━━━━━━━━━━━━━━━━━━━━━━━━━━━━\u001b[0m \u001b[32m0.0/167.7 kB\u001b[0m \u001b[31m?\u001b[0m eta \u001b[36m-:--:--\u001b[0m\r\u001b[2K     \u001b[91m━━━━━━━━━\u001b[0m\u001b[91m╸\u001b[0m\u001b[90m━━━━━━━━━━━━━━━━━━━━━━━━━━━━━━\u001b[0m \u001b[32m41.0/167.7 kB\u001b[0m \u001b[31m1.1 MB/s\u001b[0m eta \u001b[36m0:00:01\u001b[0m\r\u001b[2K     \u001b[90m━━━━━━━━━━━━━━━━━━━━━━━━━━━━━━━━━━━━━━━━\u001b[0m \u001b[32m167.7/167.7 kB\u001b[0m \u001b[31m2.8 MB/s\u001b[0m eta \u001b[36m0:00:00\u001b[0m\n",
            "\u001b[?25hRequirement already satisfied: numpy in /usr/local/lib/python3.10/dist-packages (from meshio) (1.23.5)\n",
            "Requirement already satisfied: rich in /usr/local/lib/python3.10/dist-packages (from meshio) (13.7.0)\n",
            "Requirement already satisfied: markdown-it-py>=2.2.0 in /usr/local/lib/python3.10/dist-packages (from rich->meshio) (3.0.0)\n",
            "Requirement already satisfied: pygments<3.0.0,>=2.13.0 in /usr/local/lib/python3.10/dist-packages (from rich->meshio) (2.16.1)\n",
            "Requirement already satisfied: mdurl~=0.1 in /usr/local/lib/python3.10/dist-packages (from markdown-it-py>=2.2.0->rich->meshio) (0.1.2)\n",
            "Installing collected packages: meshio\n",
            "Successfully installed meshio-5.3.4\n"
          ]
        }
      ],
      "source": [
        "pip install meshio"
      ]
    },
    {
      "cell_type": "code",
      "execution_count": 17,
      "metadata": {
        "id": "yqAr088nJjXm"
      },
      "outputs": [],
      "source": [
        "import meshio\n",
        "import matplotlib as plt"
      ]
    },
    {
      "cell_type": "code",
      "source": [
        "from mshr import *\n"
      ],
      "metadata": {
        "id": "2MJtYBZ2nncC"
      },
      "execution_count": 13,
      "outputs": []
    },
    {
      "cell_type": "code",
      "execution_count": null,
      "metadata": {
        "id": "-SjQatg3QTT2"
      },
      "outputs": [],
      "source": [
        "#Import the mesh that you would like to use\n",
        "msh = meshio.read(\"meshDef.msh\")\n",
        "meshio.write(\"meshDef.xml\",msh)\n",
        "mesh = Mesh(\"meshDef.xml\")\n"
      ]
    },
    {
      "cell_type": "code",
      "execution_count": 25,
      "metadata": {
        "id": "lAl2mm1iQcBG",
        "colab": {
          "base_uri": "https://localhost:8080/",
          "height": 53
        },
        "outputId": "3c97f686-295f-4e59-cdb7-115733dd11d3"
      },
      "outputs": [
        {
          "output_type": "execute_result",
          "data": {
            "text/plain": [
              "'\\nNote that if this solver is to be used after the electrostatic solver, there is no need for this step\\nto take place, as the list of points will already come from the electrostatic solver.\\n'"
            ],
            "application/vnd.google.colaboratory.intrinsic+json": {
              "type": "string"
            }
          },
          "metadata": {},
          "execution_count": 25
        }
      ],
      "source": [
        "import numpy as np\n",
        "from dolfin import *\n",
        "\n",
        "#msh = meshio.read(\"meshdef2.xml\")\n",
        "#mesh = Mesh(\"meshdef2.xml\")\n",
        "\n",
        "\n",
        "#Example mesh, for explicative purposes\n",
        "rect1 = Rectangle(Point(0,0), Point(1,5))\n",
        "cir = Circle(Point(0.5, 0), 0.5)\n",
        "\n",
        "domain = rect1 + cir\n",
        "mesh = generate_mesh(domain, 250)\n",
        "\n",
        "class boundary(SubDomain): #Define a subdomain of the mesh, only with the nodes where the following conditions are met\n",
        "    def inside(self, x, on_boundary):\n",
        "      if on_boundary:\n",
        "        if  near(x[0], 0) or near(x[0], 1) or near(x[1] , 5): #Obtain the points on the boundary outside of the needle\n",
        "          return False\n",
        "        else:\n",
        "          return True\n",
        "      else:\n",
        "        return False\n",
        "\n",
        "\n",
        "V = FunctionSpace(mesh, \"CG\", 1)\n",
        "mf = MeshFunction(\"size_t\", mesh, mesh.topology().dim()-1, 0)\n",
        "boundary().mark(mf, 1) #Mark the elements of the desired boundary\n",
        "v2d = vertex_to_dof_map(V)\n",
        "dofs = []\n",
        "\n",
        "for facet in facets(mesh):  #Obtain a list of the marked nodes\n",
        "    if mf[facet.index()] == 1:\n",
        "        vertices = facet.entities(0)\n",
        "        for vertex in vertices:\n",
        "            dofs.append(v2d[vertex])\n",
        "\n",
        "unique_dofs = np.array(list(set(dofs)), dtype=np.int32)\n",
        "boundary_coords = V.tabulate_dof_coordinates()[unique_dofs]\n",
        "np.sort(boundary_coords)\n",
        "for i, dof in enumerate(unique_dofs):\n",
        "    #print(boundary_coords[i])\n",
        "    a=0\n",
        "\n",
        "def sort_coordinates(coordinates, start_node):#Sorts the coordinates due to a point, due to the angle between a point and the centroid (the centroid of the needle works fine)\n",
        "    # Find the centroid as the reference point\n",
        "    centroid = np.mean(coordinates, axis=0)\n",
        "\n",
        "    # Calculate the angles with respect to the centroid\n",
        "    angles = np.arctan2(coordinates[:, 1] - centroid[1], coordinates[:, 0] - centroid[0])\n",
        "\n",
        "    # Calculate angles with respect to the start node\n",
        "    start_angle = np.arctan2(start_node[1] - centroid[1], start_node[0] - centroid[0])\n",
        "    angles_relative = (angles - start_angle + 2 * np.pi) % (2 * np.pi)\n",
        "\n",
        "    # Sort the coordinates based on angles\n",
        "    sorted_indices = np.argsort(angles_relative)\n",
        "    sorted_coordinates = coordinates[sorted_indices]\n",
        "\n",
        "    return sorted_coordinates\n",
        "\n",
        "sorted_coordinates = sort_coordinates(boundary_coords,[0.5,5])  #Obtain the coordinates of the mesh at the nodes where deformation will occur\n",
        "\n",
        "\"\"\"\n",
        "Note that if this solver is to be used after the electrostatic solver, there is no need for this step\n",
        "to take place, as the list of points will already come from the electrostatic solver.\n",
        "\"\"\"\n"
      ]
    },
    {
      "cell_type": "code",
      "execution_count": 26,
      "metadata": {
        "id": "IPfX_65KN0_E"
      },
      "outputs": [],
      "source": [
        "points  = sorted_coordinates\n",
        "\n",
        "#Example usage, generate forces, when using the code, replace with actual forces obtained with the electrostatic solver\n",
        "line1 = np.linspace(0, -18, num= round(len(sorted_coordinates)/2)-1)\n",
        "line2 = np.linspace(-18, 0, num= round(len(sorted_coordinates)/2))\n",
        "\n",
        "line = [j for i in [line1, [-18] , line2] for j in i]\n",
        "\n",
        "line1x = np.linspace(-4, 0, num= round(len(sorted_coordinates)/2)-1)\n",
        "line2x = np.linspace(0, 4, num= round(len(sorted_coordinates)/2))\n",
        "\n",
        "linex = [j for i in [line1x, [0], line2x] for j in i]\n",
        "\n",
        "\n",
        "#Fs = [[0, -9.81/len(points)]]*len(points)\n",
        "\n",
        "\n",
        "Fs = []\n",
        "for i in range(0, len(line)):\n",
        "  Fs.append([linex[i], line[i]])\n",
        "\n",
        "\n"
      ]
    },
    {
      "cell_type": "code",
      "execution_count": 27,
      "metadata": {
        "id": "0rCcf0V2zRWA",
        "colab": {
          "base_uri": "https://localhost:8080/",
          "height": 539
        },
        "outputId": "ec06c701-0653-46d0-fae9-cc5421c967d1"
      },
      "outputs": [
        {
          "output_type": "stream",
          "name": "stdout",
          "text": [
            "Notation dx[meshfunction] is deprecated. Please use dx(subdomain_data=meshfunction) instead.\n"
          ]
        },
        {
          "output_type": "stream",
          "name": "stderr",
          "text": [
            "Level 25:UFL_LEGACY:Notation dx[meshfunction] is deprecated. Please use dx(subdomain_data=meshfunction) instead.\n"
          ]
        },
        {
          "output_type": "stream",
          "name": "stdout",
          "text": [
            "Notation dx[meshfunction] is deprecated. Please use dx(subdomain_data=meshfunction) instead.\n"
          ]
        },
        {
          "output_type": "stream",
          "name": "stderr",
          "text": [
            "Level 25:UFL_LEGACY:Notation dx[meshfunction] is deprecated. Please use dx(subdomain_data=meshfunction) instead.\n"
          ]
        },
        {
          "output_type": "execute_result",
          "data": {
            "text/plain": [
              "<matplotlib.collections.PolyCollection at 0x794b000d82e0>"
            ]
          },
          "metadata": {},
          "execution_count": 27
        },
        {
          "output_type": "display_data",
          "data": {
            "text/plain": [
              "<Figure size 640x480 with 1 Axes>"
            ],
            "image/png": "[encoded data removed]"
          },
          "metadata": {}
        }
      ],
      "source": [
        "\n",
        "V = VectorFunctionSpace(mesh, 'Lagrange', degree=1)\n",
        "\n",
        "def boundary(x, on_boundary):\n",
        "    return on_boundary and (near(x[1], 5) or near(x[0],0) or near(x[0],1)   ) #Change with places where there will be no deformation. In this case, the needle\n",
        "\n",
        "\n",
        "numSubdomains = len(points)\n",
        "\n",
        "subdomains = [SubDomain() for _ in range(numSubdomains)] #Define one subdomain for every node where a force will be created.\n",
        "\n",
        "# Define a list to store the markers for each subdomain\n",
        "domain_markers = [MeshFunction(\"size_t\", mesh, mesh.topology().dim(), 0) for _ in range(numSubdomains)]\n",
        "\n",
        "forces = [Constant((Fs[i][0], Fs[i][1])) for i in range(numSubdomains)]  #Express the forces with the notation used by FeniCs\n",
        "\n",
        "normalpoints = [] #Makes my points uniform to a unisquaremesh\n",
        "for n in range(0, len(points)):\n",
        "  normalpoints.append([points[n][0] , points[n][1] ])\n",
        "boundary_points = normalpoints\n",
        "\n",
        "# Size of the square around each point\n",
        "square_size = 0.05 # Adjust as needed, depending on the separation of nodes.\n",
        "\n",
        "# Create subdomains based on points\n",
        "subdomains = MeshFunction('size_t', mesh, mesh.topology().dim(), 0)\n",
        "\n",
        "for i, point in enumerate(boundary_points, start=1): #Create the n subdomains in the form of squares\n",
        "    subdomain_marker = AutoSubDomain(lambda x: between(x[0], (point[0] - square_size, point[0] + square_size)) and\n",
        "                                              between(x[1], (point[1] - square_size, point[1] + square_size)))\n",
        "    subdomain_marker.mark(subdomains, i)\n",
        "\n",
        "\n",
        "dx = Measure(\"dx\")[subdomains] #Create measure for the domain\n",
        "ds = Measure(\"ds\")[subdomains] #Create the measure for the boundary\n",
        "\n",
        "#Deformations are calculated here\n",
        "def eps(v):\n",
        "    return sym(grad(v))\n",
        "\n",
        "E = Constant(10) #Young's modulus: Measure of the stiffness of a material and is defined as the ratio of stress to strain in the elastic deformation range.\n",
        "nu = Constant(0.3) # Poisson measure of the relative contraction or expansion of a material perpendicular to the direction of applied stress\n",
        "model = \"plane_stres\"\n",
        "\n",
        "mu = E/2/(1+nu) #Definition of Lamé's parameters\n",
        "lmbda = E*nu/(1+nu)/(1-2*nu)\n",
        "\n",
        "def sigma(v):\n",
        "    return lmbda*tr(eps(v))*Identity(2) + 2.0*mu*eps(v)\n",
        "\n",
        "du = TrialFunction(V)\n",
        "u_ = TestFunction(V)\n",
        "\n",
        "a = inner(sigma(du), eps(u_))*dx #Define the variational form\n",
        "\n",
        "l = 0\n",
        "\n",
        "for i in range(0,len(Fs)):\n",
        "  l = l + inner(forces[i], u_)*dx(i+1) #Add every force, one by one, integrating only on the needed subdomain\n",
        "\n",
        "bc = DirichletBC(V, Constant((0.,0.)), boundary) #Boundary condition for needle (no deformation on that way)\n",
        "\n",
        "u = Function(V, name=\"Displacement\")\n",
        "solve(a == l, u, bc) #Solve the elastic problem\n",
        "\n",
        "plot(u, mode=\"displacement\", title = \"Deformation\")\n"
      ]
    },
    {
      "cell_type": "code",
      "execution_count": 20,
      "metadata": {
        "id": "PQkFAuQVKZ63"
      },
      "outputs": [],
      "source": [
        "file = File(\"Deforma.pvd\") #Save deformations for visualization in Paraview\n",
        "file << u"
      ]
    },
    {
      "cell_type": "code",
      "execution_count": 21,
      "metadata": {
        "id": "neWWWXpd89Vb"
      },
      "outputs": [],
      "source": [
        "def update_mesh(mesh, displacement): #Create a new mesh, with the geometry of the displacements.\n",
        "    new_mesh = Mesh(mesh)\n",
        "    ALE.move(new_mesh, displacement)\n",
        "    return new_mesh\n",
        "\n",
        "mesh = update_mesh(mesh,u)\n",
        "mesh_file = File(\"meshdef2.xml\") #Save the mesh as an xml file\n",
        "mesh_file << mesh"
      ]
    },
    {
      "cell_type": "code",
      "execution_count": null,
      "metadata": {
        "id": "AiYfz9rWlm7I"
      },
      "outputs": [],
      "source": [
        "import math\n",
        "from dolfin import *\n",
        "\n",
        "msh = meshio.read(\"meshdef2.xml\")\n",
        "meshio.write(\"meshdef2.xml\",msh)\n",
        "mesh = Mesh(\"meshdef2.xml\")\n",
        "\n",
        "class boundary(SubDomain): #Take the boundary points of the new, deformed mesh. This will be useful for greating a .Geo() geometry\n",
        "    def inside(self, x, on_boundary):\n",
        "      if on_boundary:\n",
        "        if near(x[1], 5): #Take the top  part of the boundary, we don't need these nodes\n",
        "          return False\n",
        "        else:\n",
        "          return True\n",
        "\n",
        "V = FunctionSpace(mesh, \"CG\", 1)\n",
        "v = project(Expression(\"x[0]+x[1]\", degree=2),V)\n",
        "mf = MeshFunction(\"size_t\", mesh, mesh.topology().dim()-1, 0)\n",
        "boundary().mark(mf, 1)\n",
        "v2d = vertex_to_dof_map(V)\n",
        "dofs = []\n",
        "for facet in facets(mesh):\n",
        "    if mf[facet.index()] == 1:\n",
        "        vertices = facet.entities(0)\n",
        "        for vertex in vertices:\n",
        "                dofs.append(v2d[vertex])\n",
        "unique_dofs = np.array(list(set(dofs)), dtype=np.int32)\n",
        "boundary_coords1 = V.tabulate_dof_coordinates()[unique_dofs]\n",
        "\n",
        "\n",
        "boundary_coords_aux = [0]*len(boundary_coords1)\n",
        "\n",
        "def angle_with_reference(point, reference_point):\n",
        "      x, y = point[0] - reference_point[0], point[1] - reference_point[1]\n",
        "      return math.atan2(y, x)\n",
        "\n",
        "def sort_counterclockwise(points):\n",
        "      # Find the centroid as the reference point\n",
        "      reference_point = [sum(x[0] for x in points) / len(points), sum(x[1] for x in points) / len(points)]\n",
        "\n",
        "      # Sort points based on the angle with the reference point\n",
        "      sorted_points = sorted(points, key=lambda point: angle_with_reference(point, reference_point))\n",
        "\n",
        "      return sorted_points\n",
        "\n",
        "boundary_coords = sort_counterclockwise(boundary_coords1)\n",
        "\n",
        "mesh_cords = [0]*len(boundary_coords)\n",
        "for i in range(0, len(boundary_coords)):\n",
        "  mesh_cords[i] = Point(boundary_coords[i][0],boundary_coords[i][1])\n",
        "\n"
      ]
    },
    {
      "cell_type": "markdown",
      "metadata": {
        "id": "LBHElseYi52p"
      },
      "source": [
        "Attempt to write .geo() from zero"
      ]
    },
    {
      "cell_type": "code",
      "execution_count": 23,
      "metadata": {
        "id": "m_G4b6efjajZ"
      },
      "outputs": [],
      "source": [
        "#With the nodes obtained from the boundary, create a .geo geometry, so that a new mesh, to iterate the electrostatic solver on it can be created.\n",
        "\n",
        "#The mesh gives the needle part of the boundary, the rest must be done manually.\n",
        "\n",
        "with open('Iteration.txt', 'w') as file:\n",
        "    # Write content to the file\n",
        "    for i in range(0, len(mesh_cords)-1):\n",
        "      file.write(\"//+ \\n\")\n",
        "      file.write(\"Point(\"+str(i+1) +\") = {\" + str(mesh_cords[i][0]) + \",\" + str(mesh_cords[i][1]) + \",0,1}; \\n\")\n",
        "\n",
        "    file.write(\"//+//+ \\n\")\n",
        "\n",
        "    for i in range(1, len(mesh_cords)-1):\n",
        "      file.write(\"//+ \\n\")\n",
        "      file.write(\"Line(\" + str(i) + \") = {\" + str(i) +\", \" + str(i+1)+\"}; \\n\")\n",
        "    file.write(\"Line(\" + str(len(mesh_cords)-1) + \") = { 1 ,\" + str(len(mesh_cords)-1) + \"}; \\n\" )\n",
        "\n"
      ]
    }
  ],
  "metadata": {
    "colab": {
      "provenance": []
    },
    "kernelspec": {
      "display_name": "Python 3",
      "name": "python3"
    },
    "language_info": {
      "name": "python"
    }
  },
  "nbformat": 4,
  "nbformat_minor": 0
}