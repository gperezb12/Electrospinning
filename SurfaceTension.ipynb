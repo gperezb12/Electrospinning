{
  "nbformat": 4,
  "nbformat_minor": 0,
  "metadata": {
    "colab": {
      "provenance": []
    },
    "kernelspec": {
      "name": "python3",
      "display_name": "Python 3"
    },
    "language_info": {
      "name": "python"
    }
  },
  "cells": [
    {
      "cell_type": "markdown",
      "source": [
        "# Surface Tension Solver\n",
        "\n",
        "This program takes the boundary points of a mesh, and due to the curvature between said points, and the surface tension coefficient, it finds the value for the surface tension on every node (clearly around the boundary).\n",
        "\n",
        "Note: It is recommended to review the way in which the surface tension is defined, as there are several methods, and the one implemented tends to be very unstable."
      ],
      "metadata": {
        "id": "EmFrvlJXBHFr"
      }
    },
    {
      "cell_type": "code",
      "execution_count": 14,
      "metadata": {
        "id": "OAwbWCS5zY-Z"
      },
      "outputs": [],
      "source": [
        "#Setup FeniCs\n",
        "try:\n",
        "    import dolfin\n",
        "except ImportError:\n",
        "    !wget \"https://fem-on-colab.github.io/releases/fenics-install-real.sh\" -O \"/tmp/fenics-install.sh\" && bash \"/tmp/fenics-install.sh\"\n",
        "    import dolfin"
      ]
    },
    {
      "cell_type": "code",
      "source": [
        "from mshr import *\n",
        "import matplotlib.pyplot as plt\n",
        "\n",
        "#Define parameters for simplicity\n",
        "#This block of code provides a general mesh case, it can be modified in accordance to the problem needed\n",
        "\n",
        "rect2_1x = 4\n",
        "rect2_1y = 2\n",
        "rect2_1 = Point(rect2_1x,rect2_1y)\n",
        "\n",
        "rect2_2x = 6\n",
        "rect2_2y = 5\n",
        "rect2_2 = Point(rect2_2x,rect2_2y)\n",
        "\n",
        "\n",
        "rect2 = Rectangle(rect2_1, rect2_2)\n",
        "circle = Circle(Point(5 , 2), 1 )\n",
        "\n",
        "domain =  rect2 + circle\n",
        "mesh = generate_mesh(domain, 500)"
      ],
      "metadata": {
        "id": "fQyJSowyCFVv"
      },
      "execution_count": 49,
      "outputs": []
    },
    {
      "cell_type": "code",
      "source": [
        "  #This block of code provides the filter, extracting only the nodes on the boundary.\n",
        "  #Note that surface tension is clearly only defined over the boundary.\n",
        "\n",
        "  import math\n",
        "  class boundary(SubDomain):\n",
        "    def inside(self, x, on_boundary):\n",
        "        return on_boundary\n",
        "\n",
        "  V = FunctionSpace(mesh, \"CG\", 1)\n",
        "  v = project(Expression(\"x[0]+x[1]\", degree=2),V)\n",
        "  mf = MeshFunction(\"size_t\", mesh, mesh.topology().dim()-1, 0)\n",
        "  boundary().mark(mf, 1)\n",
        "  v2d = vertex_to_dof_map(V)\n",
        "  dofs = []\n",
        "  for facet in facets(mesh):\n",
        "      if mf[facet.index()] == 1:\n",
        "          vertices = facet.entities(0)\n",
        "          for vertex in vertices:\n",
        "              dofs.append(v2d[vertex])\n",
        "\n",
        "  unique_dofs = np.array(list(set(dofs)), dtype=np.int32)\n",
        "  boundary_coords1 = V.tabulate_dof_coordinates()[unique_dofs]\n",
        "\n",
        "\n",
        "  boundary_coords_aux = [0]*len(boundary_coords1)\n",
        "\n",
        "  for i in range(0,len(boundary_coords_aux)):\n",
        "    boundary_coords_aux[i] = [boundary_coords1[i][0] , boundary_coords1[i][1]]\n",
        "\n",
        "\n",
        "  def angle_with_reference(point, reference_point):\n",
        "      x, y = point[0] - reference_point[0], point[1] - reference_point[1]\n",
        "      return math.atan2(y, x)\n",
        "\n",
        "  def sort_counterclockwise(points):\n",
        "      # Find the centroid as the reference point\n",
        "      reference_point = [sum(x[0] for x in points) / len(points), sum(x[1] for x in points) / len(points)]\n",
        "\n",
        "      # Sort points based on the angle with the reference point\n",
        "      sorted_points = sorted(points, key=lambda point: angle_with_reference(point, reference_point))\n",
        "\n",
        "      return sorted_points\n",
        "\n",
        "  boundary_coords = sort_counterclockwise(boundary_coords_aux)\n",
        "\n",
        "  mesh_cords = [0]*len(boundary_coords)\n",
        "  for i in range(0, len(boundary_coords)):\n",
        "    mesh_cords[i] = Point(boundary_coords[i][0],boundary_coords[i][1])\n"
      ],
      "metadata": {
        "id": "-RhbTp9GDpc3"
      },
      "execution_count": 50,
      "outputs": []
    },
    {
      "cell_type": "code",
      "source": [
        "import matplotlib.pyplot as plt\n",
        "#Block used to plot the points over the boundary\n",
        "def plot_points(points):\n",
        "    # Extract x and y coordinates from the list of points\n",
        "    x_coordinates, y_coordinates = zip(*points)\n",
        "\n",
        "    # Plot the points\n",
        "    plt.scatter(x_coordinates, y_coordinates, color='blue', marker='o')\n",
        "    plt.title('Plot of Points')\n",
        "    plt.xlabel('X-axis')\n",
        "    plt.ylabel('Y-axis')\n",
        "    plt.grid(True)\n",
        "    plt.show()\n",
        "\n",
        "# Example usage:\n",
        "points_list = boundary_coords\n",
        "plot_points(points_list)\n"
      ],
      "metadata": {
        "colab": {
          "base_uri": "https://localhost:8080/",
          "height": 472
        },
        "id": "VHUGlqk1EySc",
        "outputId": "ae41e8da-ab5f-4490-d706-360efa486867"
      },
      "execution_count": 51,
      "outputs": [
        {
          "output_type": "display_data",
          "data": {
            "text/plain": [
              "<Figure size 640x480 with 1 Axes>"
            ],
            "image/png": "[encoded data removed]"
          },
          "metadata": {}
        }
      ]
    },
    {
      "cell_type": "code",
      "source": [
        "#Given Two Points, this function gives a unit normal vector to the line created by the two points\n",
        "def normal_unit_vector(point1, point2):\n",
        "    # Calculate the direction vector of the line\n",
        "    direction_vector = np.array(point2) - np.array(point1)\n",
        "\n",
        "    # Calculate the normal vector\n",
        "    normal_vector = np.array([-direction_vector[1], direction_vector[0]])\n",
        "\n",
        "    # Normalize the normal vector to get the unit normal vector\n",
        "    unit_normal_vector = (normal_vector / np.linalg.norm(normal_vector))\n",
        "    b = np.array(unit_normal_vector).tolist() #Changes to list, for compatibility\n",
        "    b = [-1*b[0] , -1*b[1]] #Makes the vector outward\n",
        "    return b\n",
        "\n",
        "\n",
        "\n"
      ],
      "metadata": {
        "id": "wnMD8LaqItcE"
      },
      "execution_count": 52,
      "outputs": []
    },
    {
      "cell_type": "code",
      "source": [
        "#Block in charge of calculating Surfae tension\n",
        "import numpy as np\n",
        "def calculate_curvature_and_force(points, surface_tension_coefficient, normal):\n",
        "    n = len(points)\n",
        "    curvature = np.zeros(n)\n",
        "    surface_tension_force = np.zeros((n, 2))  # 2D force vector\n",
        "\n",
        "    for i in range(1, n - 1): #Defines the second and first derivatives, in order to solve the finite differences problem for curvature estimation\n",
        "        # Approximate first and second derivatives\n",
        "        dx = points[i + 1][0] - points[i - 1][0]\n",
        "        dy = points[i + 1][1] - points[i - 1][1]\n",
        "        ds = np.sqrt(dx**2 + dy**2)\n",
        "\n",
        "        x_prime = dx / (2 * ds)\n",
        "        y_prime = dy / (2 * ds)\n",
        "\n",
        "        dx_prime = points[i + 1][0] - 2 * points[i][0] + points[i - 1][0]\n",
        "        dy_prime = points[i + 1][1] - 2 * points[i][1] + points[i - 1][1]\n",
        "\n",
        "        x_double_prime = dx_prime / ds**2\n",
        "        y_double_prime = dy_prime / ds**2\n",
        "\n",
        "        # Calculate curvature\n",
        "        curvature[i] = 0.5*np.abs(x_prime * y_double_prime - x_double_prime * y_prime) / (x_prime**2 + y_prime**2)**1.5 #Definition of survature\n",
        "\n",
        "        # Calculate surface tension force\n",
        "        surface_tension_force[i] = surface_tension_coefficient * curvature[i] * np.array(normal[i]) #Definition of Surface tension\n",
        "\n",
        "    return curvature, surface_tension_force\n",
        "\n",
        "\n",
        "#Filter the points on the  boundary to the ones on the bottom, as the top, left and right boundaries are bounded by a needle, meaning no force is applied there\n",
        "filt= []\n",
        "for i in range(0,len(boundary_coords)):\n",
        "  if ((boundary_coords[i][1] == 5) or (boundary_coords[i][0] > 5.99) or (boundary_coords[i][0] < 4.01))  :\n",
        "    k = 0\n",
        "  else:\n",
        "    filt.append(boundary_coords[i])\n",
        "\n",
        "\n",
        "\n",
        "normalVectors = []\n",
        "for i in range(0, len(filt)-1):\n",
        "  n = normal_unit_vector(filt[i], filt[i+1])\n",
        "  normalVectors.append(n)\n",
        "\n",
        "st,Fst = calculate_curvature_and_force(filt, 0.0375,normalVectors )"
      ],
      "metadata": {
        "id": "HPUSr-X2I2J3"
      },
      "execution_count": 59,
      "outputs": []
    },
    {
      "cell_type": "code",
      "source": [
        "#Block in charge of plotting the surface tension forces\n",
        "import matplotlib.pyplot as plt\n",
        "import numpy as np\n",
        "from matplotlib.colors import Normalize\n",
        "from matplotlib import cm\n",
        "\n",
        "def plot_points_and_vectors(points, vectors):\n",
        "    fig, ax = plt.subplots()\n",
        "\n",
        "    # Normalize vectors to make them unitary\n",
        "    norms = np.linalg.norm(vectors, axis=1)\n",
        "    unit_vectors = vectors / norms[:, np.newaxis]\n",
        "\n",
        "    # Use a color map to represent vector magnitudes\n",
        "    magnitudes = np.linalg.norm(vectors, axis=1)\n",
        "    norm = Normalize(vmin=min(magnitudes), vmax=max(magnitudes))\n",
        "    colors = cm.viridis(norm(magnitudes))\n",
        "\n",
        "    # Define your custom scaling factor\n",
        "    custom_scaling_factor = 0.1\n",
        "\n",
        "    # Plot points\n",
        "    ax.scatter(*zip(*points), color='red', s=5)\n",
        "\n",
        "    # Plot normalized vectors with color map and varying size\n",
        "    for i, point in enumerate(points):\n",
        "        vector = custom_scaling_factor * unit_vectors[i]  # Adjust the length\n",
        "        color = cm.viridis(norm(magnitudes[i]))\n",
        "\n",
        "        # Scale the size based on the magnitude\n",
        "        scale = 0.1\n",
        "        ax.arrow(point[0], point[1], vector[0], vector[1], color=color,\n",
        "                 head_width=0.2 * scale, head_length=0.2 * scale, fc=color, ec=color)\n",
        "\n",
        "    ax.set_aspect('equal')\n",
        "    plt.xlabel('X-axis')\n",
        "    plt.ylabel('Y-axis')\n",
        "    plt.title('Surface Tension Force on the Boundary')\n",
        "\n",
        "    # Resize the grid\n",
        "    plt.grid(True, linewidth=0.5, alpha=0.5)\n",
        "\n",
        "    # Add colorbar\n",
        "    sm = plt.cm.ScalarMappable(cmap=cm.viridis, norm=norm)\n",
        "    sm.set_array([])\n",
        "    cbar = plt.colorbar(sm, orientation='vertical', label='Force Magnitude [N]')\n",
        "\n",
        "    plt.show()\n",
        "\n",
        "\n",
        "def average_of_vectors(vectors):\n",
        "    result = []\n",
        "\n",
        "    for i in range(1, len(vectors)):\n",
        "        avg_vector = [(vectors[i-1][0] + vectors[i][0]) / 2, (vectors[i-1][1] + vectors[i][1]) / 2]\n",
        "        result.append(avg_vector)\n",
        "\n",
        "    return result\n",
        "\n",
        "# Example usage:\n",
        "\n",
        "plot_points_and_vectors(filt, Fst)\n"
      ],
      "metadata": {
        "id": "TCbNXAhhJDKI"
      },
      "execution_count": null,
      "outputs": []
    }
  ]
}